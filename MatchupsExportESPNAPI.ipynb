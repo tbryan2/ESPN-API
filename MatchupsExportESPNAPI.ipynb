{
 "cells": [
  {
   "cell_type": "code",
   "execution_count": 1,
   "id": "8c4e955f-316d-4cc2-ba2b-1fb002837cfe",
   "metadata": {},
   "outputs": [],
   "source": [
    "# Dependencies\n",
    "import requests\n",
    "import pandas as pd"
   ]
  },
  {
   "cell_type": "code",
   "execution_count": 2,
   "id": "656de315-166e-4070-b6ce-a853043cc979",
   "metadata": {},
   "source": [
    "# Define URL parameters\n",
    "league_id = input('Enter your ESPN league id:')\n",
    "year = input('Enter the year for the data you would like to pull:')"
   ]
  },
  {
   "cell_type": "code",
   "execution_count": 3,
   "id": "05bf7a98-6ca1-4ff1-9f15-a548ba670465",
   "metadata": {},
   "outputs": [],
   "source": [
    "# Define the URL with our parameters\n",
    "url = \"https://fantasy.espn.com/apis/v3/games/ffl/leagueHistory/\" + \\\n",
    "      str(league_id) + \"?seasonId=\" + str(year)\n",
    "\n",
    "# Pull team and matchup data from the URL \n",
    "matchup_response = requests.get(url, params={\"view\": \"mMatchup\"})\n",
    "team_response = requests.get(url, params={\"view\": \"mTeam\"})\n",
    "\n",
    "# Transform the response into a json\n",
    "matchup_json = matchup_response.json()\n",
    "team_json = team_response.json()"
   ]
  },
  {
   "cell_type": "code",
   "execution_count": 4,
   "id": "9a21ec12-5da3-4568-9fd7-5a145d919a8d",
   "metadata": {},
   "outputs": [],
   "source": [
    "# Transform both of the json outputs into DataFrames\n",
    "matchup_df = pd.json_normalize(matchup_json[0]['schedule'])\n",
    "\n",
    "team_df = pd.json_normalize(team_json[0]['teams'])"
   ]
  },
  {
   "cell_type": "code",
   "execution_count": 5,
   "id": "1beb8cbc-63dd-44ff-a009-74e735e40e4d",
   "metadata": {},
   "outputs": [],
   "source": [
    "# Define the column names needed\n",
    "matchup_column_names = {\n",
    "    'matchupPeriodId':'Week', \n",
    "    'away.teamId':'Team1', \n",
    "    'away.totalPoints':'Score1',\n",
    "    'home.teamId':'Team2', \n",
    "    'home.totalPoints':'Score2',\n",
    "}\n",
    "\n",
    "team_column_names = {\n",
    "    'id':'id',\n",
    "    'location':'Name1',\n",
    "    'nickname':'Name2'\n",
    "}\n",
    "\n",
    "# Reindex based on column names defined above\n",
    "matchup_df = matchup_df.reindex(columns=matchup_column_names).rename(columns=matchup_column_names)\n",
    "team_df = team_df.reindex(columns=team_column_names).rename(columns=team_column_names)"
   ]
  },
  {
   "cell_type": "code",
   "execution_count": 6,
   "id": "dac7d882",
   "metadata": {},
   "outputs": [],
   "source": [
    "# Add a new column for regular/playoff game based on week number\n",
    "matchup_df['Type'] = ['Regular' if week<=13 else 'Playoff' for week in matchup_df['Week']]\n",
    "\n",
    "# Concatenate the two name columns\n",
    "team_df['Name'] = team_df['Name1'] + ' ' + team_df['Name2']\n",
    "\n",
    "# Drop all columns except id and Name\n",
    "team_df = team_df.filter(['id', 'Name'])"
   ]
  },
  {
   "cell_type": "code",
   "execution_count": 7,
   "id": "6388a7eb-23f4-4331-ba66-0277b40d827a",
   "metadata": {},
   "outputs": [],
   "source": [
    "# (1) Rename Team1 column to id\n",
    "matchup_df = matchup_df.rename(columns={\"Team1\":\"id\"})\n",
    "\n",
    "# (1) Merge DataFrames to get team names instead of ids and rename Name column to Name1\n",
    "matchup_df = matchup_df.merge(team_df, on=['id'], how='left')\n",
    "matchup_df = matchup_df.rename(columns={'Name':'Name1'})\n",
    "\n",
    "# (1) Drop the id column and reorder columns\n",
    "matchup_df = matchup_df[['Week', 'Name1', 'Score1', 'Team2', 'Score2', 'Type']]"
   ]
  },
  {
   "cell_type": "code",
   "execution_count": 8,
   "id": "b126904d-ae8d-45ce-97fe-786da25a70ea",
   "metadata": {},
   "outputs": [],
   "source": [
    "# (2) Rename Team1 column to id\n",
    "matchup_df = matchup_df.rename(columns={\"Team2\":\"id\"})\n",
    "\n",
    "# (2) Merge DataFrames to get team names instead of ids and rename Name column to Name2\n",
    "matchup_df = matchup_df.merge(team_df, on=['id'], how='left')\n",
    "matchup_df = matchup_df.rename(columns={'Name':'Name2'})\n",
    "\n",
    "# (2) Drop the id column and reorder columns\n",
    "matchup_df = matchup_df[['Week', 'Name1', 'Score1', 'Name2', 'Score2', 'Type']]"
   ]
  },
  {
   "cell_type": "code",
   "execution_count": 9,
   "id": "4da4d67f-0ea1-4af4-801a-4729a3564540",
   "metadata": {},
   "outputs": [],
   "source": [
    "# Output the DataFrame to a csv\n",
    "matchup_df.to_csv(f\"{year}_matchups.csv\")"
   ]
  }
 ],
 "metadata": {
  "kernelspec": {
   "display_name": "Python 3.9.7 ('base')",
   "language": "python",
   "name": "python3"
  },
  "language_info": {
   "codemirror_mode": {
    "name": "ipython",
    "version": 3
   },
   "file_extension": ".py",
   "mimetype": "text/x-python",
   "name": "python",
   "nbconvert_exporter": "python",
   "pygments_lexer": "ipython3",
   "version": "3.9.7"
  },
  "vscode": {
   "interpreter": {
    "hash": "838e51ec53c769d56e1cc4cb363682f0a508bbcae9a91bec1df886143b87e50b"
   }
  }
 },
 "nbformat": 4,
 "nbformat_minor": 5
}
