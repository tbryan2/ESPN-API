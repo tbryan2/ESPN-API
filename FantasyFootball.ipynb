{
 "cells": [
  {
   "cell_type": "code",
   "execution_count": 17,
   "id": "8c4e955f-316d-4cc2-ba2b-1fb002837cfe",
   "metadata": {},
   "outputs": [],
   "source": [
    "# Dependencies\n",
    "import requests\n",
    "import espn_credentials\n",
    "import pandas as pd\n",
    "import matplotlib.pyplot as plt\n",
    "import numpy as np"
   ]
  },
  {
   "cell_type": "code",
   "execution_count": 31,
   "id": "05bf7a98-6ca1-4ff1-9f15-a548ba670465",
   "metadata": {},
   "outputs": [],
   "source": [
    "# Define URL parameters\n",
    "league_id = espn_credentials.league_id\n",
    "year = 2021\n",
    "\n",
    "# Define the URL with our parameters\n",
    "url = \"https://fantasy.espn.com/apis/v3/games/ffl/leagueHistory/\" + \\\n",
    "      str(league_id) + \"?seasonId=\" + str(year)\n",
    "\n",
    "response = requests.get(url, params={\"view\": \"mMatchup\"})\n",
    "\n",
    "json = response.json()[0]"
   ]
  },
  {
   "cell_type": "code",
   "execution_count": 26,
   "id": "9a21ec12-5da3-4568-9fd7-5a145d919a8d",
   "metadata": {},
   "outputs": [],
   "source": [
    "# Transform the entire json output into \n",
    "df = pd.json_normalize(json['schedule'])"
   ]
  },
  {
   "cell_type": "code",
   "execution_count": 27,
   "id": "1beb8cbc-63dd-44ff-a009-74e735e40e4d",
   "metadata": {},
   "outputs": [],
   "source": [
    "# Define the column names needed\n",
    "column_names = {\n",
    "    'matchupPeriodId':'Week', \n",
    "    'away.teamId':'Team1', \n",
    "    'away.totalPoints':'Score1',\n",
    "    'home.teamId':'Team2', \n",
    "    'home.totalPoints':'Score2',\n",
    "}\n",
    "\n",
    "# Reindex based on column names defined about\n",
    "df = df.reindex(columns=column_names).rename(columns=column_names)\n",
    "\n",
    "# Add a new column for regular/playoff game based on week number\n",
    "df['Type'] = ['Regular' if week<=13 else 'Playoff' for week in df['Week']]"
   ]
  },
  {
   "cell_type": "code",
   "execution_count": 28,
   "id": "154b48de-3b55-43ad-8a35-d482f8acab39",
   "metadata": {},
   "outputs": [
    {
     "data": {
      "text/html": [
       "<div>\n",
       "<style scoped>\n",
       "    .dataframe tbody tr th:only-of-type {\n",
       "        vertical-align: middle;\n",
       "    }\n",
       "\n",
       "    .dataframe tbody tr th {\n",
       "        vertical-align: top;\n",
       "    }\n",
       "\n",
       "    .dataframe thead th {\n",
       "        text-align: right;\n",
       "    }\n",
       "</style>\n",
       "<table border=\"1\" class=\"dataframe\">\n",
       "  <thead>\n",
       "    <tr style=\"text-align: right;\">\n",
       "      <th></th>\n",
       "      <th>Week</th>\n",
       "      <th>Team1</th>\n",
       "      <th>Score1</th>\n",
       "      <th>Team2</th>\n",
       "      <th>Score2</th>\n",
       "      <th>Type</th>\n",
       "    </tr>\n",
       "  </thead>\n",
       "  <tbody>\n",
       "    <tr>\n",
       "      <th>0</th>\n",
       "      <td>1</td>\n",
       "      <td>1.0</td>\n",
       "      <td>107.47</td>\n",
       "      <td>2</td>\n",
       "      <td>122.72</td>\n",
       "      <td>Regular</td>\n",
       "    </tr>\n",
       "    <tr>\n",
       "      <th>1</th>\n",
       "      <td>1</td>\n",
       "      <td>11.0</td>\n",
       "      <td>137.67</td>\n",
       "      <td>4</td>\n",
       "      <td>151.86</td>\n",
       "      <td>Regular</td>\n",
       "    </tr>\n",
       "    <tr>\n",
       "      <th>2</th>\n",
       "      <td>1</td>\n",
       "      <td>3.0</td>\n",
       "      <td>191.56</td>\n",
       "      <td>14</td>\n",
       "      <td>130.37</td>\n",
       "      <td>Regular</td>\n",
       "    </tr>\n",
       "    <tr>\n",
       "      <th>3</th>\n",
       "      <td>1</td>\n",
       "      <td>12.0</td>\n",
       "      <td>123.95</td>\n",
       "      <td>8</td>\n",
       "      <td>126.94</td>\n",
       "      <td>Regular</td>\n",
       "    </tr>\n",
       "    <tr>\n",
       "      <th>4</th>\n",
       "      <td>1</td>\n",
       "      <td>10.0</td>\n",
       "      <td>131.38</td>\n",
       "      <td>13</td>\n",
       "      <td>153.60</td>\n",
       "      <td>Regular</td>\n",
       "    </tr>\n",
       "  </tbody>\n",
       "</table>\n",
       "</div>"
      ],
      "text/plain": [
       "   Week  Team1  Score1  Team2  Score2     Type\n",
       "0     1    1.0  107.47      2  122.72  Regular\n",
       "1     1   11.0  137.67      4  151.86  Regular\n",
       "2     1    3.0  191.56     14  130.37  Regular\n",
       "3     1   12.0  123.95      8  126.94  Regular\n",
       "4     1   10.0  131.38     13  153.60  Regular"
      ]
     },
     "execution_count": 28,
     "metadata": {},
     "output_type": "execute_result"
    }
   ],
   "source": [
    "# Get a look at the data\n",
    "df.head()"
   ]
  },
  {
   "cell_type": "code",
   "execution_count": 57,
   "id": "da1fcdcc-3007-48b7-8c7c-1bb32d7e955f",
   "metadata": {},
   "outputs": [],
   "source": [
    "# Set conditions, values to rename Team1 and Team2 from IDs to names\n",
    "a"
   ]
  },
  {
   "cell_type": "code",
   "execution_count": null,
   "id": "6388a7eb-23f4-4331-ba66-0277b40d827a",
   "metadata": {},
   "outputs": [],
   "source": []
  },
  {
   "cell_type": "code",
   "execution_count": null,
   "id": "f83fabc7-1bb1-4de4-a590-3a9309cf9a3d",
   "metadata": {},
   "outputs": [],
   "source": []
  },
  {
   "cell_type": "code",
   "execution_count": null,
   "id": "bbe1286e-b76e-4ee2-9979-2ca209890efa",
   "metadata": {},
   "outputs": [],
   "source": []
  },
  {
   "cell_type": "code",
   "execution_count": null,
   "id": "ad09f2bc-4ec1-4552-854a-9b46c3f33bf0",
   "metadata": {},
   "outputs": [],
   "source": []
  }
 ],
 "metadata": {
  "kernelspec": {
   "display_name": "Python 3 (ipykernel)",
   "language": "python",
   "name": "python3"
  },
  "language_info": {
   "codemirror_mode": {
    "name": "ipython",
    "version": 3
   },
   "file_extension": ".py",
   "mimetype": "text/x-python",
   "name": "python",
   "nbconvert_exporter": "python",
   "pygments_lexer": "ipython3",
   "version": "3.9.7"
  }
 },
 "nbformat": 4,
 "nbformat_minor": 5
}
